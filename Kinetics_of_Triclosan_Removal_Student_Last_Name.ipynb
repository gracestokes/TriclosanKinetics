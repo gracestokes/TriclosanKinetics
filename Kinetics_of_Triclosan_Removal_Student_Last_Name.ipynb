{
  "nbformat": 4,
  "nbformat_minor": 0,
  "metadata": {
    "kernelspec": {
      "display_name": "Python 3",
      "language": "python",
      "name": "python3"
    },
    "language_info": {
      "codemirror_mode": {
        "name": "ipython",
        "version": 3
      },
      "file_extension": ".py",
      "mimetype": "text/x-python",
      "name": "python",
      "nbconvert_exporter": "python",
      "pygments_lexer": "ipython3",
      "version": "3.8.3"
    },
    "colab": {
      "name": "Kinetics of Triclosan Removal (For Pre-Lab Use Winter 2022) - Student Last Name.ipynb",
      "provenance": [],
      "collapsed_sections": []
    }
  },
  "cells": [
    {
      "cell_type": "markdown",
      "metadata": {
        "id": "FfsoiMAQSQiT"
      },
      "source": [
        "Written by Dr. Hoda Mirafzal, Dr. Grace Stokes, and Dr. Megan Tichy\n",
        "\n",
        "## Upon completion of this exercise, students should be able to: \n",
        "*   Assess integrated rate law plots to determine the order of a reaction with respect to a specific reactant\n",
        "*   Predict the half-life of first or second order decay reaction from concentration/time data\n",
        "*   Visualize the differences between 1st and 2nd order kinetic rate laws using Python graphics\n",
        "*   Discriminate which theoretical model best matches experimental data"
      ]
    },
    {
      "cell_type": "markdown",
      "metadata": {
        "id": "TdxnxKoHSQiV"
      },
      "source": [
        "##**Before starting this excercise, make a copy of this file (Go to File > Save a copy in Drive). Rename the copy with YOUR (student's) name (not your instructor's name). Make sure to share the file with your instructor and TA.**"
      ]
    },
    {
      "cell_type": "markdown",
      "metadata": {
        "id": "nWutTBPCSQiX"
      },
      "source": [
        "# Python Basics\n",
        "In this exercise, we will use Python code to visualize how the concentration of a reactant changes as a function of time depending on the reaction order. **You don't have to know any python or any programming to go through this exercise,** but if you'd like to learn more, see this website: https://blogs.scu.edu/stokeslab/learning-python-in-general-chemistry/\n",
        "\n",
        "Helpful hints:\n",
        "\n",
        "*   Hashtags (<i>#</i>) at the beginning of a line signify comments and get color-coded as green but do not impact the execution of the code.\n",
        "*   The notebook only executes the current code block. This can have several unintended consequences. If you change a value and then go back and run an earlier code block, it will use the new value, not the first defined value, which may give you incorrect analysis. \n",
        "*   Similarly, if you open your notebook later, or try to run a code block after having changed something in an earlier block, you should go through every cell and hit \"shift-enter\" until you get to the cell where you want to see your updated results.\n",
        "\n",
        "\n",
        "## STEP 1. IMPORT LIBRARIES\n",
        "The first step in any python exercise is to bring in (or import) the libraries for numerical operations and graphics. That's what the next cell does. \n",
        "Click in the box, then press Shift and Enter at the same time.</br>"
      ]
    },
    {
      "cell_type": "code",
      "metadata": {
        "id": "AMPhz76xSQiY"
      },
      "source": [
        "# Execute this cell with shift-enter or by left-clicking the \"play button\" to the left. \n",
        "# This cell imports various libraries and packages that we will need\n",
        "\n",
        "# numpy is used for numerical operations\n",
        "import numpy as np\n",
        "\n",
        "# matplotlib.pyplot is used for graphics\n",
        "import matplotlib.pyplot as plt\n",
        "\n",
        "# We will use pandas to make data tables\n",
        "import pandas as pd\n",
        "\n",
        "print('You did it! Libraries are now imported.')"
      ],
      "execution_count": null,
      "outputs": []
    },
    {
      "cell_type": "markdown",
      "metadata": {
        "id": "HiZ_eN3NSQiW"
      },
      "source": [
        "# Kinetics of Triclosan Removal by Activated Charcoal\n",
        "\n",
        "Triclosan is an antimicrobial and antifungal agent that is used in many beauty supplies, soaps, and toothpaste. High levels of triclosan in the environment have raised concern about our constant exposure to the drug. One of the methods available to remove triclosan from contaminated waste water is to use activated charcoal as an adsorbent.\n",
        "\n",
        "The kinetics of stoichiometrically simple reactions can be described using what is called the **<i>order</i>** of a reaction.\n",
        "\n",
        "For the general reaction $ A \\longrightarrow products $, described by the rate law $ rate =k[A]^n$, the reaction is $ n^{th} $ order with respect to the reactant $ A $. We will use the data you collected in lab to investigate the order of the reaction between triclosan and activated charcoal. \n",
        "\n",
        "## STEP 2. IMPORT DATA INTO TABLE\n",
        "Next, let's create a table with the data you have collected in the lab. In the cell below, you will enter the ticlosan concentration values for all of the aliquots you collected.\n",
        "  \n",
        "\n",
        "<p>In the cell below, <b>time_min_exp</b> stands for the points in time (in units of minutes) when you took an aliquot from your triclosan solution. You were asked to take aliquots about every ten minutes. Change the values for <b>time_min_exp</b> to the correct time values at which you took each aliquot. \n",
        "\n",
        "<p><b>triclosan_conc_ppm_exp</b> stands for the concentration of each triclosan aliquot in units of ppm. Change the values to reflect the triclosan concentrations of your experimental aliquots. Remember that you have to use the calibration curve you constructed to convert the absorbance value for each aliquot to a concentration value in units of ppm. Do NOT change anything else in the code. When done, execute the cell by shift+enter. </p>\n",
        "\n"
      ]
    },
    {
      "cell_type": "code",
      "metadata": {
        "id": "qH6nvWDNeV_a"
      },
      "source": [
        "# Execute this cell with shift-enter or by clicking the \"play button\" to the left.\n",
        "\n",
        "# In the command below, we input the times (in minutes) when we collect each data point.\n",
        "# In python, arrays are data structures like lists. In this case, you want to make a list of numbers that represents the times at which you collected data.\n",
        "# The function np.array allows you to input values that you type directly into a list.\n",
        "# In Python, brackets are used to index a set of numbers into an array.\n",
        "# Later in the code, instead of asking python to perform calculations with each individual data point, we simply ask it to perform the calculation on the array and it automatically applies the calculation to all numbers in the array.\n",
        "time_min_exp = np.array([0.0,10.0,20.0,30.0,40.0,50.0,60.0])\n",
        "      \n",
        "# In the command below, we input the triclosan concentrations (in ppm) for each of collected aliquots.\n",
        "triclosan_conc_ppm_exp = np.array([23.00,15.00,12.00,7.00,6.00,5.50,5.00])\n",
        "\n",
        "print('Great! You have successfully entered your data.')\n"
      ],
      "execution_count": null,
      "outputs": []
    },
    {
      "cell_type": "markdown",
      "metadata": {
        "id": "ZkCwopPo8bsU"
      },
      "source": [
        "Now that you've entered your experimental data, python will summarize your data in a table. It is critical that you ensure that the generated table agrees with the experimental data that you collected in the lab. The rest of the code will calculate everything based on the data in this table."
      ]
    },
    {
      "cell_type": "code",
      "metadata": {
        "id": "eX-MFH4U8Dr3"
      },
      "source": [
        "# Execute this cell with shift-enter or by clicking the \"play button\" to the left.\n",
        "\n",
        "# Generate a table using the data inputted above\n",
        "# Create an empty dataframe\n",
        "df = pd.DataFrame()\n",
        "# Add data to the dataframe\n",
        "df['time (min)'] = time_min_exp\n",
        "df['experimental [triclosan] (ppm)'] = triclosan_conc_ppm_exp\n",
        "\n",
        "# This command makes the table in this cell\n",
        "df"
      ],
      "execution_count": null,
      "outputs": []
    },
    {
      "cell_type": "markdown",
      "metadata": {
        "id": "NuCAn2kXw6aB"
      },
      "source": [
        "# Part 1: Determing the Reaction Order by Using Integrated Rate Law Plots\n",
        "\n",
        "Recall that the integrated rate law for each common type of reaction (zeroth, first, or second order with respect to a single reactant $A$) can be plotted to obtain a straight line. \n",
        "\n",
        "For a zeroth order reaction, a plot of concentration of reactant $A$ versus time yields a straight line with a slope = $-k$. \n",
        "<p style='text-align: right;'>\n",
        "$ [A] = -kt+[A]_0$\n",
        "$\\qquad\\qquad\\qquad\\qquad\\qquad\\qquad$  (zeroth-order Integrated Rate Law) \n",
        "</p>\n",
        "\n",
        "For a first order reaction, a plot of natural log of concentration ($ln[A]$) versus time yields a straight line with a slope = $-k$. \n",
        "<p style='text-align: right;'>\n",
        "$ ln[A] = -kt+ln[A]_0$\n",
        "$\\qquad\\qquad\\qquad\\qquad\\qquad\\qquad$  (1st-order Integrated Rate Law) \n",
        "</p>\n",
        "\n",
        "And for a second order reaction, a plot of inverse concentration ($\\dfrac{1}{[A]}$) versus time yields a straight line with a slope = $k$. \n",
        "<p style='text-align: right;'>\n",
        "$ \\frac{1}{[A]} = kt+ \\frac{1}{[A]_0}$\n",
        "$\\qquad\\qquad\\qquad\\qquad\\qquad\\qquad\\qquad$ (2nd-order Integrated Rate Law)\n",
        "</p>\n",
        "\n",
        "Using these plots offers a graphical method to determine the reaction order with respect to a specific reactant. In our case, we are interested to determine the order of the reaction with respect to triclosan. The cell below will generate the three integrated rate law plots for your data."
      ]
    },
    {
      "cell_type": "code",
      "metadata": {
        "id": "3JCF--Og3c7l"
      },
      "source": [
        "# Execute this cell with shift-enter or by clicking the \"play button\" to the left.\n",
        "# The following calculates the natural log and inverse of each of the experimental concentrations.\n",
        "ln_triclosan_conc = np.log(triclosan_conc_ppm_exp)\n",
        "inv_triclosan_conc = 1/triclosan_conc_ppm_exp\n",
        "\n",
        "# This initializes the plot windows in a side-by-side view\n",
        "fig, (ax1, ax2, ax3) = plt.subplots(1, 3, figsize=(22,5))\n",
        "\n",
        "# The following import a module that allows us to get statistical information (such as R^2, standard deviation, ...) on the trendlines.\n",
        "from scipy import stats\n",
        "\n",
        "# This plots triclosan_conc_ppm_exp (independent variable) as a function of time_min_exp (dependent variable) and it labels the figure and the axes.\n",
        "# 'ro' means red circles. If you would like to change the color of your markers, use this list of abbreviations: https://docs.google.com/document/d/1AC4tEjAnqF-qclPq9FGlAg84TEGD1wNhhtSsHqd7Mbc/edit?usp=sharing\n",
        "ax1.plot(time_min_exp,triclosan_conc_ppm_exp,'ro')\n",
        "slope, intercept, r_value, p_value, std_err = stats.linregress(time_min_exp,triclosan_conc_ppm_exp)\n",
        "ax1.set_title('Figure 1. Experimental Triclosan Concentration versus Time \\n y={:4.2e} x + {:4.2E}; R^2= {:2.2f}'.format(slope,intercept, r_value*r_value))\n",
        "ax1.set_xlabel('Time (min)')\n",
        "ax1.set_ylabel('[Triclosan] (ppm)')\n",
        "ax1.grid(True)\n",
        "# The commands below fit a linear trendline to the graph.\n",
        "z1 = np.polyfit(time_min_exp, triclosan_conc_ppm_exp, 1)\n",
        "p1 = np.poly1d(z1)\n",
        "ax1.plot(time_min_exp,p1(time_min_exp),\"r--\")\n",
        "\n",
        "# This plots natural log of triclosan concentration as a function of time_min_exp and it labels the figure and the axes.\n",
        "# 'bo' means blue circles. If you would like to change the color of your markers, use this list of abbreviations: https://docs.google.com/document/d/1AC4tEjAnqF-qclPq9FGlAg84TEGD1wNhhtSsHqd7Mbc/edit?usp=sharing\n",
        "ax2.plot(time_min_exp,ln_triclosan_conc,'bo')\n",
        "slope2, intercept2, r_value2, p_value2, std_err2 = stats.linregress(time_min_exp,ln_triclosan_conc)\n",
        "ax2.set_title('Figure 2. Natural Log of Triclosan Concentration versus Time \\n y={:4.2e} x + {:4.2E}; R^2= {:2.2f}'.format(slope2,intercept2, r_value2*r_value2))\n",
        "ax2.set_xlabel('Time (min)')\n",
        "ax2.set_ylabel('ln[Triclosan]')\n",
        "ax2.grid(True)\n",
        "# The commands below fit a linear trendline to the graph.\n",
        "z2 = np.polyfit(time_min_exp, ln_triclosan_conc, 1)\n",
        "p2 = np.poly1d(z2)\n",
        "ax2.plot(time_min_exp,p2(time_min_exp),\"b--\")\n",
        "\n",
        "# This plots inverse triclosan concentration as a function of time_min_exp and it labels the figure and the axes.\n",
        "# 'go' means green circles. If you would like to change the color of your markers, use this list of abbreviations: https://docs.google.com/document/d/1AC4tEjAnqF-qclPq9FGlAg84TEGD1wNhhtSsHqd7Mbc/edit?usp=sharing\n",
        "ax3.plot(time_min_exp,inv_triclosan_conc,'go')\n",
        "slope3, intercept3, r_value3, p_value3, std_err3 = stats.linregress(time_min_exp,inv_triclosan_conc)\n",
        "ax3.set_title('Figure 3. Inverse of Triclosan Concentration versus Time \\n y={:4.2e} x + {:4.2E}; R^2= {:2.2f}'.format(slope3,intercept3, r_value3*r_value3))\n",
        "ax3.set_xlabel('Time (min)')\n",
        "ax3.set_ylabel('1/[Triclosan]')\n",
        "ax3.grid(True)\n",
        "# The commands below fit a linear trendline to the graph.\n",
        "z3 = np.polyfit(time_min_exp, inv_triclosan_conc, 1)\n",
        "p3 = np.poly1d(z3)\n",
        "ax3.plot(time_min_exp,p3(time_min_exp),\"g--\")\n",
        "\n",
        "# This command saves a snapshot of your figures in the current Google Drive folder. You may access it by clicking the folder icon on the left vertical menu bar.\n",
        "fig.tight_layout() # to avoid overlapping\n",
        "plt.savefig('Integrated_Rate_Law_Plots.png', bbox_inches='tight')"
      ],
      "execution_count": null,
      "outputs": []
    },
    {
      "cell_type": "markdown",
      "metadata": {
        "id": "TwoFqFOq8srv"
      },
      "source": [
        "## In Your Notebook:\n",
        "\n",
        "Take a screenshot of the three graphs python generated and paste it in the Results section of your notebook. Make sure to record the following in the Observations section:\n",
        "\n",
        "* According to the graphs you generated, which is most likely the order of the reaction with respect to triclosan (zeroth, first, or second)? Justify your response. \n",
        "* The value of the rate constant ($k$) from the slope of the graph that best represents the order of the reaction. Don't forget the units!"
      ]
    },
    {
      "cell_type": "markdown",
      "metadata": {
        "id": "bRmEQYxYdE5c"
      },
      "source": [
        "# Part 2: Determining the Reaction Order by Estimating the Half-life\n",
        "\n",
        "## Predicting Half-life from Experimental Data\n",
        "Were you able to determine the order of the reaction definitively from Part 1? You may have been able to easily eliminate zeroth order but, perhaps, you need a little more information before you can determine the order with confidence. An alternative method of determining the order of the reaction is to have the Python code calculate theoretical concentration values for a zeroth, first, and second order reaction. The code can do this calculation if an estimated half-life is provided. A comparison between the experimental and theoretical concentration graphs allows you to which order is closest to your experimental data. If you were able to definitively determine the reaction order in Part 1 based on integrated rate law plots, this part will just serve as a confirmation. If your plots in Part 1 were not conclusive, this part will help you decide the correct reaction order.\n",
        "\n",
        "This time, we will work with a set of experimental data that was provided to us:\n",
        "\n",
        "Table 1. Experimentally Measured Triclosan Concentrations Versus Time\n",
        "<p></p>\n",
        "<p></p>\n",
        "\n",
        "![Screen Shot 2021-08-15 at 6.27.51 PM.png](data:image/png;base64,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)\n",
        "\n",
        "\n",
        "Look carefully at the above experimental data and estimate the half life ($t_\\frac{1}{2}$). As a reminder, the $t_\\frac{1}{2}$ is the time (in minutes) that it takes for the concentration to drop to half of its initial value. Write your answer in your lab notebook. </br>\n",
        "\n",
        "<p>In the cell below, <b>half_life_min</b> stands for the value of the half-life of the reaction in units of minutes. Change the value for <b>half_life_min</b> to what you have estimated the half-life to be. The correct value should NOT be 90. Then, execute the cell by shift+enter. Write your estimated value of the half-life in your notebook. </p>\n",
        "\n"
      ]
    },
    {
      "cell_type": "code",
      "metadata": {
        "id": "6SPHMTEDSQij"
      },
      "source": [
        "# Execute this cell with shift-enter or by left-clicking the \"play button\" to the left. \n",
        "# We include the units in the variable name to avoid a syntax error. \n",
        "half_life_min = 90\n",
        "print('half life =',half_life_min,'min')"
      ],
      "execution_count": null,
      "outputs": []
    },
    {
      "cell_type": "markdown",
      "metadata": {
        "id": "o-13OxpfSQii"
      },
      "source": [
        "##Calculating Triclosan Concentrations Based on 1st and 2nd Order Rate Laws\n",
        "\n",
        "In lab, Triclosan concentration, [$triclosan$], was measured about every $10.0 mins$ over a 60 minute timespan. Our goal is to calculate the theoretical values for [$triclosan$] (ppm) at each time interval and compare the theoretical value to the provided measured value.\n",
        "\n",
        "In the following cell, python will use the estimated value of half-life that you inputted in the previous cell to determine the corresponding 1st and 2nd order rate constants ($k_1$ and $k_2$) by using the following equations:\n",
        "\n",
        "<p style='text-align: right;'>\n",
        "$k_1 = \\dfrac{ln(2)}{t_\\frac{1}{2}}$  \n",
        "$\\qquad\\qquad\\qquad\\qquad\\qquad\\qquad\\qquad$ (1st-order Half-life Equation)  \n",
        "<br>\n",
        "\n",
        "<p style='text-align: right;'>\n",
        "$k_2 = \\dfrac{1}{t_\\frac{1}{2}[A]_0}$  \n",
        "$\\qquad\\qquad\\qquad\\qquad\\qquad\\qquad\\qquad$   (2nd-order Half-life Equation)   \n",
        "<br>\n",
        "\n",
        "In the above equations, $[A]_0$ stands for the initial concentration of the reactant, in this case triclosan. \n",
        "The code will then calculate and print the theoretical triclosan concentration at each time interval by using the integrated rate laws for 1st and 2nd order reactions:\n",
        "\n",
        "<p style='text-align: right;'>\n",
        "$ [A] = [A]_0e^{-k_1t}$\n",
        "$\\qquad\\qquad\\qquad\\qquad\\qquad\\qquad$  (1st-order Integrated Rate Law) \n",
        "</p>\n",
        "\n",
        "<p style='text-align: right;'>\n",
        "$ [A] =( \\frac{1}{[A]_0}+k_2t)^{-1}$\n",
        "$\\qquad\\qquad\\qquad\\qquad\\qquad$ (2nd-order Integrated Rate Law)\n",
        "</p>\n",
        "\n"
      ]
    },
    {
      "cell_type": "code",
      "metadata": {
        "id": "ax2FdM1BSQim"
      },
      "source": [
        "# Execute this cell with shift-enter or by clicking the \"play button\" to the left.\n",
        "\n",
        "# We define initial_triclosan_conc_ppm from the concentration of the stock triclosan solution that was provided to you in the lab (concentration value at t=0 min)\n",
        "initial_triclosan_conc_ppm = 23.2\n",
        "print('Initial triclosan conc =',initial_triclosan_conc_ppm,'ppm')\n",
        "\n",
        "# In the command below, we input the times (in minutes) from Table 1.\n",
        "time_min_exp_table1 = np.array([0.0,10.0,20.0,30.0,40.0,50.0,60.0])\n",
        "      \n",
        "# In the command below, we input the triclosan concentrations (in ppm) for each of collected aliquots.\n",
        "triclosan_conc_ppm_exp_table1 = np.array([23.2,16.3,11.5,8.1,5.7,4.0,2.8])\n",
        "\n",
        "# 1st order rate law\n",
        "# Here is where we calculate ln2 and plug into the 1st-order half-life equation to get k1\n",
        "x=np.log(2)\n",
        "print(f'Half-life = {half_life_min} minutes')\n",
        "k1= x / half_life_min\n",
        "# recall that the units of k1 is min^-1\n",
        "print(f'The first order rate constant (k1)={k1:.5} min^-1.')\n",
        "# In the numpy library, exponentials are denoted as exp(...) so for example, exp(5) = e^5.\n",
        "# This line of code generates the triclosan concentration data for a 1st order reaction\n",
        "triclosan_1st_order_ppm=initial_triclosan_conc_ppm*np.exp(-k1*time_min_exp_table1)\n",
        "\n",
        "# 2nd order rate law\n",
        "# recall that the units of k2 is ppm^-1 min^-1\n",
        "k2=1/(half_life_min*initial_triclosan_conc_ppm)\n",
        "print(f'The second order rate constant (k2) is {k2:.5} ppm^-1 min^-1.')\n",
        "# Here we predict the triclosan concentration data if it was a 2nd order reaction\n",
        "# Note that ** means raised to the power of (In Python, ax^3 can be written as a*x**3)\n",
        "triclosan_2nd_order_ppm=(((1/(initial_triclosan_conc_ppm))+k2*time_min_exp_table1))**(-1)\n",
        "\n",
        "# Input the data generated above into a table\n",
        "# Create an empty dataframe\n",
        "df = pd.DataFrame()\n",
        "# Add data to the dataframe\n",
        "df['time (min)'] = time_min_exp\n",
        "df['exp[triclosan](ppm)'] = triclosan_conc_ppm_exp_table1\n",
        "df['theor[triclosan]-1st'] = triclosan_1st_order_ppm\n",
        "df['theor[triclosan]-2nd'] = triclosan_2nd_order_ppm\n",
        "\n",
        "# This command makes the table in this cell\n",
        "df"
      ],
      "execution_count": null,
      "outputs": []
    },
    {
      "cell_type": "markdown",
      "metadata": {
        "id": "eh1oWdQdSQi2"
      },
      "source": [
        "## In Your Notebook:\n",
        "\n",
        "Take a screenshot of the table python generated and paste it in the Results section of your notebook. Make sure to record the following in the Observations section:\n",
        "\n",
        "* The value of the 1st-order rate constant.\n",
        "* The value of the 2nd-order rate constant.\n",
        "* According to the table you generated, which theoretical reaction order (1st order rate law or 2nd order rate law) is closer to the experimentally-determined values for triclosan removal?"
      ]
    },
    {
      "cell_type": "markdown",
      "metadata": {
        "id": "hFVS5jHiSQi6"
      },
      "source": [
        "## Comparing the Plots of Experimental Data to Theoretical 1st and 2nd Order Rate Laws\n",
        "\n",
        "You may have noticed that the comparison of the tabulated experimental triclosan concentrations with the tabulated theoretical triclosan concentrations was not very conclusive. As you'll soon see, plotting the data will make the comparison a lot more obvious. In the next cell, we will overlay our theoretical values from the 1st and 2nd order rate laws on a graph WITH the experimental data. We will call this graph Figure 4. "
      ]
    },
    {
      "cell_type": "code",
      "metadata": {
        "id": "CErPciw8SQi6"
      },
      "source": [
        "# Execute this cell with shift-enter or by clicking the \"play button\" to the left.\n",
        "\n",
        "# This code below generates 50 evenly-spaced points between 0 and 60 minutes\n",
        "time_min_theor=np.linspace(0,60)\n",
        "\n",
        "#recall that init_triclosan_conc_ppm, k1 and k2 were previously defined so we do not need to re-define it \n",
        "# (unless we want to change the value for half-life)\n",
        "triclosan_theor_1st_ppm= initial_triclosan_conc_ppm*np.exp(-k1*time_min_theor)\n",
        "triclosan_theor_2nd_ppm=(((1/(initial_triclosan_conc_ppm))+k2*time_min_theor))**(-1)\n",
        "\n",
        "# This initializes the plot window\n",
        "plt.figure()\n",
        "\n",
        "# This plots triclosan_conc_ppm_exp (independent variable) as a function of the experimental times (time_min_exp)\n",
        "plt.title('Figure 4. Theoretical versus Experimental Triclosan Concentrations')\n",
        "plt.xlabel('Time (min)')\n",
        "plt.ylabel('Triclosan (ppm)')\n",
        "plt.grid(True)\n",
        "\n",
        "# These commands plot experimental data on the same graph as theoretical values for 1st order and 2nd order reactions.\n",
        "# 'ro' means red circles, 'b-' means blue line and 'g.' means green dots \n",
        "# If you would like to change the color of your markers, \n",
        "# use this list of abbreviations: https://docs.google.com/document/d/1AC4tEjAnqF-qclPq9FGlAg84TEGD1wNhhtSsHqd7Mbc/edit?usp=sharing\n",
        "plt.plot(time_min_exp,triclosan_conc_ppm_exp_table1,'ro',label='experimental')\n",
        "plt.plot(time_min_theor,triclosan_theor_1st_ppm,'b-',label='1st order theoretical')\n",
        "plt.plot(time_min_theor,triclosan_theor_2nd_ppm,'g.', label='2nd order theoretical')\n",
        "\n",
        "#This command generates a legend.\n",
        "plt.legend()\n",
        "\n",
        "# This command saves a snapshot of your figure in the current Google Drive folder. You may access it by clicking the folder icon on the left vertical menu bar.\n",
        "fig.tight_layout() # to avoid overlapping\n",
        "plt.savefig('Theoretical_Versus_Experimental_Plots.png', bbox_inches='tight')"
      ],
      "execution_count": null,
      "outputs": []
    },
    {
      "cell_type": "markdown",
      "metadata": {
        "id": "15YLiQRoeLKA"
      },
      "source": [
        "## In Your Notebook:\n",
        "Take a screenshot of Figure 4 and paste it in the Results section of your lab notebook. In the Observations section of your notebook, answer the following questions: \n",
        "* Based on \"Figure 4. Theoretical versus experimental ozone concentrations\", which theoretical reaction order (1st order rate law or 2nd order rate law) is closer to the experimentally-determined values for the reaction of triclosan removal by charcoal? \n",
        "* What are the advantages and disadvantages of doing a visual comparison using the graph above versus a numerical comparison from the data table you made in the previous part?\n",
        "* Go back and change the value of the half-life that you inputted. How does a decrease/ increase in the value of the estimated half-life change the value of the rate constants and the graphs? As an example, try inputting a half-life of 35 minutes and a half-life of 5 minutes. Record these observations. Could you have gotten the wrong order for the reaction by estimating the wrong half-life? Record these observations. **Remember that every time you change the value of the half-life, you should re-run the cells.**  \n",
        "\n",
        "**When you're done experimenting with the half-life value, don't forget to change the value of the half-life to your original estimate and re-run the cells.**"
      ]
    },
    {
      "cell_type": "markdown",
      "metadata": {
        "id": "evYLnzN94zM9"
      },
      "source": [
        "### Why can't we do this with EXCEL?\n",
        "\n",
        "Python can be used to solve more sophisticated (and realistic) kinetics problems. Even though the calculations we showed above can be done with EXCEL because we can solve the differential equations numerically, there are some rate laws where an analytical integrated rate law is NOT possible. For those cases, you will need to use computational methods (like Python) to solve differential equations and predict the concentrations of products at later times. \n",
        "\n",
        "In an upper-division course taught in our department (Chem 150: Biophysical Chemistry), you will learn about reactions of the type \n",
        "<p style='text-align: right;'>\n",
        "$A \\longrightarrow  B  \\longrightarrow  C $\n",
        "</p>\n",
        "<p>This leads to a build-up and then depletion of B. You will see that with pencil/paper or even EXCEL, you quickly get to mathematical equations that aren't easily solved by hand, hence the need for computer simulations! </p>\n",
        "\n",
        "### Final Notes about Grading: \n",
        "In addition to answering the \"In Your Notebook\" questions in your Google doc notebook, your lab instructor will be looking for evidence of your careful reading and following of instructions embedded in the exercise. You will submit a link to this exercise as part of your postlab report on CAMINO.</p>"
      ]
    }
  ]
}